{
 "cells": [
  {
   "cell_type": "markdown",
   "metadata": {},
   "source": [
    "# Preparação"
   ]
  },
  {
   "cell_type": "markdown",
   "metadata": {},
   "source": [
    "#### Bibliotecas"
   ]
  },
  {
   "cell_type": "code",
   "execution_count": 1,
   "metadata": {},
   "outputs": [
    {
     "ename": "ModuleNotFoundError",
     "evalue": "No module named 'pandas'",
     "output_type": "error",
     "traceback": [
      "\u001b[31m---------------------------------------------------------------------------\u001b[39m",
      "\u001b[31mModuleNotFoundError\u001b[39m                       Traceback (most recent call last)",
      "\u001b[36mCell\u001b[39m\u001b[36m \u001b[39m\u001b[32mIn[1]\u001b[39m\u001b[32m, line 3\u001b[39m\n\u001b[32m      1\u001b[39m \u001b[38;5;28;01mimport\u001b[39;00m\u001b[38;5;250m \u001b[39m\u001b[34;01mos\u001b[39;00m\n\u001b[32m      2\u001b[39m \u001b[38;5;28;01mimport\u001b[39;00m\u001b[38;5;250m \u001b[39m\u001b[34;01mjson\u001b[39;00m\n\u001b[32m----> \u001b[39m\u001b[32m3\u001b[39m \u001b[38;5;28;01mimport\u001b[39;00m\u001b[38;5;250m \u001b[39m\u001b[34;01mpandas\u001b[39;00m\u001b[38;5;250m \u001b[39m\u001b[38;5;28;01mas\u001b[39;00m\u001b[38;5;250m \u001b[39m\u001b[34;01mpd\u001b[39;00m\n\u001b[32m      4\u001b[39m \u001b[38;5;28;01mimport\u001b[39;00m\u001b[38;5;250m \u001b[39m\u001b[34;01mseaborn\u001b[39;00m\u001b[38;5;250m \u001b[39m\u001b[38;5;28;01mas\u001b[39;00m\u001b[38;5;250m \u001b[39m\u001b[34;01msns\u001b[39;00m\n\u001b[32m      5\u001b[39m \u001b[38;5;28;01mimport\u001b[39;00m\u001b[38;5;250m \u001b[39m\u001b[34;01mmatplotlib\u001b[39;00m\u001b[34;01m.\u001b[39;00m\u001b[34;01mpyplot\u001b[39;00m\u001b[38;5;250m \u001b[39m\u001b[38;5;28;01mas\u001b[39;00m\u001b[38;5;250m \u001b[39m\u001b[34;01mplt\u001b[39;00m\n",
      "\u001b[31mModuleNotFoundError\u001b[39m: No module named 'pandas'"
     ]
    }
   ],
   "source": [
    "import os\n",
    "import json\n",
    "import pandas as pd\n",
    "import seaborn as sns\n",
    "import matplotlib.pyplot as plt"
   ]
  },
  {
   "cell_type": "markdown",
   "metadata": {},
   "source": [
    "#### Função para leitura dos .CSVs"
   ]
  },
  {
   "cell_type": "code",
   "execution_count": null,
   "metadata": {},
   "outputs": [],
   "source": [
    "def leitura_csvs(csv_names: dict ,pasta_csvs=\"dataset\"):\n",
    "    \"\"\"Lê os CSVs do dataset Olist 2016-2018\n",
    "\n",
    "    Retorna um dicionário de DataFrames.\"\"\"\n",
    "    dfs = {}  #dicionario onde serão guardados os dataframes\n",
    "    #preenche o dicionario dos DFs, (usando as mesmas chaves)\n",
    "    for key_name in csv_names.keys():\n",
    "        dfs[key_name] = pd.read_csv(os.path.join(pasta_csvs, csv_names[key_name]))\n",
    "    #retorno\n",
    "    return dfs"
   ]
  },
  {
   "cell_type": "markdown",
   "metadata": {},
   "source": [
    "#### Dicionario com os nomes dos .CSVs"
   ]
  },
  {
   "cell_type": "code",
   "execution_count": null,
   "metadata": {},
   "outputs": [],
   "source": [
    "csvs = {\n",
    "  \"orders\": \"olist_orders_dataset.csv\",\n",
    "  \"items\": \"olist_order_items_dataset.csv\",\n",
    "  \"payments\": \"olist_order_payments_dataset.csv\",\n",
    "  \"reviews\": \"olist_order_reviews_dataset.csv\",\n",
    "  \"customers\": \"olist_customers_dataset.csv\",\n",
    "  \"geo\": \"olist_geolocation_dataset.csv\",\n",
    "  \"products\": \"olist_products_dataset.csv\",\n",
    "  \"sellers\": \"olist_sellers_dataset.csv\",\n",
    "  \"translations\": \"product_category_name_translation.csv\"\n",
    "}"
   ]
  },
  {
   "cell_type": "markdown",
   "metadata": {},
   "source": [
    "# Inicio"
   ]
  },
  {
   "cell_type": "markdown",
   "metadata": {},
   "source": [
    "#### Leitura dos .CSVs"
   ]
  },
  {
   "cell_type": "code",
   "execution_count": null,
   "metadata": {},
   "outputs": [],
   "source": [
    "dfs = leitura_csvs(csvs)"
   ]
  },
  {
   "cell_type": "markdown",
   "metadata": {},
   "source": [
    "## Perguntas"
   ]
  },
  {
   "cell_type": "markdown",
   "metadata": {},
   "source": [
    "### Previsão de cancelamento de ordens\n",
    "Objetivo: Identificar se pedidos provavelmente serão cancelados <small>*(TODO: considerar troca para \"identificar a probabilidade de\", via regressão)*</small>\n",
    "\n",
    "#### Features:\n",
    "+ tipo de produto <small>*(product_category_name)*</small>\n",
    "+ tempo de entrega estimado <small>*(order_estimated_delivery_date - order_purchase_timestamp)*</small>\n",
    "+ frete <small>*(freight_value)*</small>\n",
    "+ forma de pagamento <small>*(payment_type)*</small>\n",
    "+ estado do cliente <small>*(customer_state)*</small>\n",
    "\n",
    "\n",
    "#### Target:\n",
    "Uma variavel binária que representa a chance de cancelamento, originaria da variavel order_status"
   ]
  },
  {
   "cell_type": "code",
   "execution_count": null,
   "metadata": {},
   "outputs": [],
   "source": [
    "#Dataframe a utilizar: 'orders'\n",
    "df_orders = dfs['orders']\n",
    "\n",
    "#Cria a variável binária\n",
    "df_orders['is_canceled'] = (df_orders['order_status'] == 'canceled').astype(int)\n",
    "\n"
   ]
  }
 ],
 "metadata": {
  "kernelspec": {
   "display_name": ".venv",
   "language": "python",
   "name": "python3"
  },
  "language_info": {
   "codemirror_mode": {
    "name": "ipython",
    "version": 3
   },
   "file_extension": ".py",
   "mimetype": "text/x-python",
   "name": "python",
   "nbconvert_exporter": "python",
   "pygments_lexer": "ipython3",
   "version": "3.11.9"
  }
 },
 "nbformat": 4,
 "nbformat_minor": 2
}
