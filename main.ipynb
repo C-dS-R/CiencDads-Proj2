{
 "cells": [
  {
   "cell_type": "markdown",
   "metadata": {},
   "source": [
    "# Preparação"
   ]
  },
  {
   "cell_type": "markdown",
   "metadata": {},
   "source": [
    "#### Bibliotecas"
   ]
  },
  {
   "cell_type": "code",
   "execution_count": 8,
   "metadata": {},
   "outputs": [],
   "source": [
    "import os\n",
    "import json\n",
    "import pandas as pd\n",
    "import seaborn as sns\n",
    "import matplotlib.pyplot as plt"
   ]
  },
  {
   "cell_type": "markdown",
   "metadata": {},
   "source": [
    "#### Função para leitura dos .CSVs"
   ]
  },
  {
   "cell_type": "code",
   "execution_count": 9,
   "metadata": {},
   "outputs": [],
   "source": [
    "def leitura_csvs(csv_names: dict ,pasta_csvs=\"dataset\"):\n",
    "    \"\"\"Lê os CSVs do dataset Olist 2016-2018\n",
    "\n",
    "    Retorna um dicionário de DataFrames.\"\"\"\n",
    "    dfs = {}  #dicionario onde serão guardados os dataframes\n",
    "    #preenche o dicionario dos DFs, (usando as mesmas chaves)\n",
    "    for key_name in csv_names.keys():\n",
    "        dfs[key_name] = pd.read_csv(os.path.join(pasta_csvs, csv_names[key_name]))\n",
    "    #retorno\n",
    "    return dfs"
   ]
  },
  {
   "cell_type": "markdown",
   "metadata": {},
   "source": [
    "#### Dicionario com os nomes dos .CSVs"
   ]
  },
  {
   "cell_type": "code",
   "execution_count": 10,
   "metadata": {},
   "outputs": [],
   "source": [
    "csvs = {\n",
    "  \"orders\": \"olist_orders_dataset.csv\",\n",
    "  \"items\": \"olist_order_items_dataset.csv\",\n",
    "  \"payments\": \"olist_order_payments_dataset.csv\",\n",
    "  \"reviews\": \"olist_order_reviews_dataset.csv\",\n",
    "  \"customers\": \"olist_customers_dataset.csv\",\n",
    "  \"geo\": \"olist_geolocation_dataset.csv\",\n",
    "  \"products\": \"olist_products_dataset.csv\",\n",
    "  \"sellers\": \"olist_sellers_dataset.csv\",\n",
    "  \"translations\": \"product_category_name_translation.csv\"\n",
    "}"
   ]
  },
  {
   "cell_type": "markdown",
   "metadata": {},
   "source": [
    "# Inicio"
   ]
  },
  {
   "cell_type": "markdown",
   "metadata": {},
   "source": [
    "#### Leitura dos .CSVs"
   ]
  },
  {
   "cell_type": "code",
   "execution_count": 11,
   "metadata": {},
   "outputs": [],
   "source": [
    "dfs = leitura_csvs(csvs)"
   ]
  },
  {
   "cell_type": "markdown",
   "metadata": {},
   "source": [
    "## Perguntas"
   ]
  },
  {
   "cell_type": "markdown",
   "metadata": {},
   "source": [
    "### Previsão de cancelamento de ordens\n",
    "Objetivo: Identificar se pedidos provavelmente serão cancelados <small>*(TODO: considerar troca para \"identificar a probabilidade de\", via regressão)*</small>"
   ]
  },
  {
   "cell_type": "code",
   "execution_count": 12,
   "metadata": {},
   "outputs": [],
   "source": [
    "#Dataframe a utilizar: 'orders'\n",
    "df_orders = dfs['orders']"
   ]
  },
  {
   "cell_type": "markdown",
   "metadata": {},
   "source": [
    "#### Target:\n",
    "Uma variavel binária que representa a chance de cancelamento, originaria da variavel order_status"
   ]
  },
  {
   "cell_type": "code",
   "execution_count": 13,
   "metadata": {},
   "outputs": [],
   "source": [
    "#Cria a variável binária\n",
    "df_orders['is_canceled'] = (df_orders['order_status'] == 'canceled').astype(int)"
   ]
  },
  {
   "cell_type": "markdown",
   "metadata": {},
   "source": [
    "#### Features:\n",
    "+ tipo de produto <small>*(product_category_name)*</small>\n",
    "+ tempo de entrega estimado <small>*(order_estimated_delivery_date - order_purchase_timestamp)*</small>\n",
    "+ frete <small>*(freight_value)*</small>\n",
    "+ forma de pagamento <small>*(payment_type)*</small>\n",
    "+ estado do cliente <small>*(customer_state)*</small>"
   ]
  },
  {
   "cell_type": "code",
   "execution_count": 14,
   "metadata": {},
   "outputs": [],
   "source": [
    "# Features \"Puras\", que nao envolvem calculos com multiplas variaveis\n",
    "features_supervisionado = [\n",
    "    'product_category_name',\n",
    "    'freight_value',\n",
    "    'payment_type',\n",
    "    'customer_state',\n",
    "]\n",
    "\n",
    "#features para o calculo do tempo de entrega\n",
    "features_data_supervisionado = ['order_estimated_delivery_date','order_purchase_timestamp',]"
   ]
  }
 ],
 "metadata": {
  "kernelspec": {
   "display_name": ".venv",
   "language": "python",
   "name": "python3"
  },
  "language_info": {
   "codemirror_mode": {
    "name": "ipython",
    "version": 3
   },
   "file_extension": ".py",
   "mimetype": "text/x-python",
   "name": "python",
   "nbconvert_exporter": "python",
   "pygments_lexer": "ipython3",
   "version": "3.11.9"
  }
 },
 "nbformat": 4,
 "nbformat_minor": 2
}
